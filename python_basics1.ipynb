{
  "nbformat": 4,
  "nbformat_minor": 0,
  "metadata": {
    "colab": {
      "provenance": []
    },
    "kernelspec": {
      "name": "python3",
      "display_name": "Python 3"
    },
    "language_info": {
      "name": "python"
    }
  },
  "cells": [
    {
      "cell_type": "markdown",
      "source": [
        "           **PYTHON BASICS ASSIGNMENT**\n",
        "\n",
        "---\n",
        "Q1. What is Python, and why is it popular?\n",
        "\n",
        "  -> Python is a programming language used for creating instructions for a computer to follow. It is a set of rules and symbols that define the process of writing complete programme.\n",
        "  Python is popular and is widely used because of the following reasons:-\n",
        "  a. Ease of learning\n",
        "  b.It is versatile.\n",
        "  c. easy to read\n",
        "  d.Lot of libraries are available\n",
        "  e. Large active community\n"
      ],
      "metadata": {
        "id": "BR1Y3f8ksDUK"
      }
    },
    {
      "cell_type": "markdown",
      "source": [
        "Q2.What is an interpreter in Python?\n",
        "\n",
        "   ->Interpreter is a computer program which converts a python code into a machine level code which a computer can understand.\n",
        "   Interpreters like- Pycharm, VS Code, Google Colab, Jupyter Notebook\n",
        "   "
      ],
      "metadata": {
        "id": "_omYDJYGt8j1"
      }
    },
    {
      "cell_type": "markdown",
      "source": [
        "Q3.What are pre-defined keywords in Python?\n",
        "\n",
        "   ->Pre-defined keywords are there in  python which holds a special meaning and have specific purpose in python programming.\n",
        "   Like- False, Class, continue, elif, else, etc..\n",
        "   "
      ],
      "metadata": {
        "id": "cqFj-4zlu2In"
      }
    },
    {
      "cell_type": "markdown",
      "source": [
        "Q4.Can keywords be used as variable names?\n",
        "\n",
        "   ->No,keywords cannot be used as variable name.\n",
        "     Keywords are holds a special meaning and have specific purpose in python programming , whereas variables are placeholders where we keep variety of data which we an use to write logic. A variable should be alphabets, underscore.\n",
        "     E.g.- continue is keyword used in python to make sure that a loop continues by skipping the iteration when the condition is false.\n",
        "     It cannot be used as a variable name otherwise the user will not able to understand the logic of the code."
      ],
      "metadata": {
        "id": "f4Ab4ZVTsCCj"
      }
    },
    {
      "cell_type": "markdown",
      "source": [
        "Q5.What is mutability in Python?\n",
        "\n",
        "   -> When we want to change something in python , it is called mutability. Objects/container whose state or value can be changed after they are created are called muttable objects. For example List is a type of mitable object which supports item assignment.\n",
        "\n",
        "   list=[1,2,\"N\"]\n",
        "   list\n",
        "output: [1, 2, 'N']\n",
        "\n",
        "  list[1]=3\n",
        "  list\n",
        "Output: [1, 3, 'N']"
      ],
      "metadata": {
        "id": "7CwqQAwRyh0s"
      }
    },
    {
      "cell_type": "markdown",
      "source": [
        "Q6.Why are lists mutable, but tuples are immutable?\n",
        "\n",
        "   ->Lists are mutable because the elements are enclosed within square brackets and parentheses and they do not guarantee that the elements will remain fixed. However, tuples are immutable as the elements are enclosed within parenthese and a tuple offers a guarantee that a particular collection of objects will remain fixed.\n",
        "\n",
        "   list=[1,2,\"N\"] list\n",
        "   \n",
        "   output: [1, 2, 'N']\n",
        "\n",
        "list[1]=3 list\n",
        "\n",
        " Output: [1, 3, 'N']\n",
        "\n",
        "b=\"pwskills\"\n",
        "b[0]\n",
        "\n",
        "pwskills\n",
        "\n",
        "b[0]=1\n",
        "\n",
        "TypeError                                 Traceback (most recent call last)\n",
        "<ipython-input-13-b8896fc82d09> in <cell line: 1>()\n",
        "----> 1 b[0]=1\n",
        "\n",
        "TypeError: 'str' object does not support item assignment"
      ],
      "metadata": {
        "id": "W_1HHYgA1P5U"
      }
    },
    {
      "cell_type": "markdown",
      "source": [
        "Q7. What is the difference between “==” and “is” operators in Python?\n",
        "\n",
        "   ->The main difference between the == and is operators in Python is that == compares the equality of objects, while is compares their identity.\n",
        "   \n",
        "   \n",
        "   Equality operator\n",
        "\n",
        "a=22\n",
        "b=22\n",
        "\n",
        "Case 1: Comparing both the variables\n",
        "\n",
        "\n",
        "print(a==b)\n",
        "\n",
        "True\n",
        "\n",
        "Is Operator\n",
        "\n",
        " Return True because both a and b is pointing to the same object   \n",
        "print(id(a))\n",
        "281   \n",
        "\n",
        "print(id(b))\n",
        "281    \n",
        "\n",
        "a is b\n",
        "True"
      ],
      "metadata": {
        "id": "ROQoORGR3nsf"
      }
    },
    {
      "cell_type": "markdown",
      "source": [
        "Q8.What are logical operators in Python?\n",
        "\n",
        "  ->Logical operators are keywords that connect and evaluate multiple conditions in single expression. There are types of logical operator-\n",
        " a. AND Operator= evaluates True when both the conditions are true.\n",
        " b. OR Opeartor= evaluates True when either of the conditions are True and\n",
        "                 False when both conditions are false.\n",
        " c. NOT Opearator= reverses the result the boolean expression that follows\n",
        "                   it.\n",
        "For e.g.\n",
        "\n",
        "True and True\n",
        "\n",
        "output: True\n",
        "\n",
        "False or False\n",
        "\n",
        "Output: False\n",
        "\n",
        "not True\n",
        "\n",
        "Output: False"
      ],
      "metadata": {
        "id": "6HMTsS_c9A47"
      }
    },
    {
      "cell_type": "markdown",
      "source": [
        "Q9. What is type casting in Python?\n",
        "\n",
        "   ->Type casting in Python is the process of converting a variable's data type to another data type. There are two types of type casting:\n",
        "   a. Implicit Typecasting\n",
        "   b. Explicit Typecasting\n",
        "\n",
        "  E.g. a=3\n",
        "      type(a)\n",
        "      int\n",
        "\n",
        "      float(a)\n",
        "Ouput: 3.0"
      ],
      "metadata": {
        "id": "upq7uyVa9ROa"
      }
    },
    {
      "cell_type": "markdown",
      "source": [
        "Q10. What is the difference between implicit and explicit type casting?\n",
        "\n",
        "  -> Implicit Typecasting- In this type casting python understands the standard datatype.\n",
        "  a = 7\n",
        "print(type(a))\n",
        " Output: int\n",
        "\n",
        "   Explicit Typecasting- In this, we can convert datatype into another datatype using inbuilt functions- str, int. float, bool.\n",
        "\n",
        "   a=\"2\"\n",
        "   type(a)\n",
        "   Output: str\n",
        "\n",
        "   int(a)\n",
        "   Output: 2\n",
        "\n",
        "   float(a)\n",
        "   Output: 2.0\n",
        "   "
      ],
      "metadata": {
        "id": "NBccBCHu-x-q"
      }
    },
    {
      "cell_type": "markdown",
      "source": [
        "Q11. What is the purpose of conditional statements in Python?\n",
        "\n",
        "   -> Conditional Statements help us to code decisions based on some     pre-conditions. It hepls to code the program as convinient for the user having some pre-conditions. There are four types of conditional statement-\n",
        "   a. if\n",
        "   b. if-else\n",
        "   c. if-elif-else\n",
        "   d. nested if\n",
        "   "
      ],
      "metadata": {
        "id": "Y6wZCh_6Aia1"
      }
    },
    {
      "cell_type": "markdown",
      "source": [
        "Q12. How does the elif statement work?\n",
        "\n",
        "  -> The “elif” keyword in Python, stands for “else if”. It can be used in conditional statements to check for multiple conditions. For example, if the first condition is false, it moves on to the next “elif” statement to check if that condition is true."
      ],
      "metadata": {
        "id": "4EsLpH_CBgF5"
      }
    },
    {
      "cell_type": "code",
      "source": [
        "a=int(input(\"enter a no\"))\n",
        "if a>=100:\n",
        "  print(\"greater than 100\")\n",
        "elif 0<=a<100:\n",
        "  print(\"lesser than 100\")\n",
        "else:\n",
        "  print(\"negative no\")"
      ],
      "metadata": {
        "colab": {
          "base_uri": "https://localhost:8080/"
        },
        "id": "WrY3Rtbd8QBE",
        "outputId": "64f9b7f9-30cd-403a-f5ec-a41067936365"
      },
      "execution_count": null,
      "outputs": [
        {
          "output_type": "stream",
          "name": "stdout",
          "text": [
            "enter a no50\n",
            "lesser than 100\n"
          ]
        }
      ]
    },
    {
      "cell_type": "markdown",
      "source": [
        "Q13. What is the difference between for and while loops?\n",
        "\n",
        "   -> The difference between for loop and while loop is:\n",
        "       A for loop iterates over a sequence of elements till certain number of times.\n",
        "       A while loop executes a block of code repeatedly untill a condition is met/true.\n"
      ],
      "metadata": {
        "id": "qTszoVq4Cr2M"
      }
    },
    {
      "cell_type": "code",
      "source": [
        "#Example of for loop\n",
        "a=[1,2,3,4]\n",
        "for i in a:\n",
        "  print(i)"
      ],
      "metadata": {
        "colab": {
          "base_uri": "https://localhost:8080/"
        },
        "id": "WyO5GBSCD23_",
        "outputId": "f74a3c79-cecc-487d-fed6-2b2c5b7e04a5"
      },
      "execution_count": null,
      "outputs": [
        {
          "output_type": "stream",
          "name": "stdout",
          "text": [
            "1\n",
            "2\n",
            "3\n",
            "4\n"
          ]
        }
      ]
    },
    {
      "cell_type": "code",
      "source": [
        "#Example of while loop\n",
        "n=7\n",
        "i=1\n",
        "while i<n:\n",
        "  print(i)\n",
        "  i=i+1\n"
      ],
      "metadata": {
        "colab": {
          "base_uri": "https://localhost:8080/"
        },
        "id": "Iq_hNjOPELFM",
        "outputId": "634c0e3d-b6e4-401f-d328-69df87f390b2"
      },
      "execution_count": null,
      "outputs": [
        {
          "output_type": "stream",
          "name": "stdout",
          "text": [
            "1\n",
            "2\n",
            "3\n",
            "4\n",
            "5\n",
            "6\n"
          ]
        }
      ]
    },
    {
      "cell_type": "markdown",
      "source": [
        "Q14. Describe a scenario where a while loop is more suitable than a for loop.\n",
        "\n",
        "   -> While loop is more suitable in scenarios where the number of iterations are not pre-detremined and it depends on some conditions.\n",
        "   For e.g.if we want to print the numbers which are less than 8 but in the successive order. We need to assign two variables like a=8, i=1, then will write the condition using while loop that if i is less than a; print it and in next step we will increse the value of i by 1 because the condition is to print number lesser than 8 but in successive order. Therefore, the output will be- 1,2,3,4,5,6,7. The code is as follows-"
      ],
      "metadata": {
        "id": "7avjxqDfEf6r"
      }
    },
    {
      "cell_type": "code",
      "source": [
        "n=8\n",
        "i=1\n",
        "while i<n:\n",
        "  print(i)\n",
        "  i=i+1"
      ],
      "metadata": {
        "colab": {
          "base_uri": "https://localhost:8080/"
        },
        "id": "GjPjLXT3EfhQ",
        "outputId": "ee11d8e6-60d9-40d9-d460-62511db1832f"
      },
      "execution_count": null,
      "outputs": [
        {
          "output_type": "stream",
          "name": "stdout",
          "text": [
            "1\n",
            "2\n",
            "3\n",
            "4\n",
            "5\n",
            "6\n",
            "7\n"
          ]
        }
      ]
    },
    {
      "cell_type": "markdown",
      "source": [
        "                       **PRACTICAL QUESTIONS**"
      ],
      "metadata": {
        "id": "BYpA0YIfGswc"
      }
    },
    {
      "cell_type": "code",
      "source": [
        "# Q1. Write a Python program to print \"Hello, World!\n",
        "print(\"Hello,World!\")"
      ],
      "metadata": {
        "id": "BY6YjdZNG1pL",
        "colab": {
          "base_uri": "https://localhost:8080/"
        },
        "outputId": "33beb75a-3c1b-455e-ca24-bb365b29c987"
      },
      "execution_count": 2,
      "outputs": [
        {
          "output_type": "stream",
          "name": "stdout",
          "text": [
            "Hello,World!\n"
          ]
        }
      ]
    },
    {
      "cell_type": "code",
      "source": [
        "# Q2. Write a Python program that displays your name and age.\n",
        "name=input(\"enter your name:- \")\n",
        "age= int(input(\"enter your age:-  \"))\n",
        "print(name)\n",
        "print(age)\n"
      ],
      "metadata": {
        "id": "68bmsm_CGo-2",
        "colab": {
          "base_uri": "https://localhost:8080/"
        },
        "outputId": "872ce8a6-8b26-4775-97d7-091e06a5e4e6"
      },
      "execution_count": 5,
      "outputs": [
        {
          "output_type": "stream",
          "name": "stdout",
          "text": [
            "enter your name:- Nisha\n",
            "enter your age:-  22\n",
            "Nisha\n",
            "22\n"
          ]
        }
      ]
    },
    {
      "cell_type": "code",
      "source": [
        "# Q3. Write code to print all the pre-defined keywords in Python using the keyword library.\n",
        "help(\"keywords\")"
      ],
      "metadata": {
        "colab": {
          "base_uri": "https://localhost:8080/"
        },
        "id": "q0tdzeV8Q6ky",
        "outputId": "0ec15871-6d9a-4a40-881f-8db2c29c659c"
      },
      "execution_count": 6,
      "outputs": [
        {
          "output_type": "stream",
          "name": "stdout",
          "text": [
            "\n",
            "Here is a list of the Python keywords.  Enter any keyword to get more help.\n",
            "\n",
            "False               class               from                or\n",
            "None                continue            global              pass\n",
            "True                def                 if                  raise\n",
            "and                 del                 import              return\n",
            "as                  elif                in                  try\n",
            "assert              else                is                  while\n",
            "async               except              lambda              with\n",
            "await               finally             nonlocal            yield\n",
            "break               for                 not                 \n",
            "\n"
          ]
        }
      ]
    },
    {
      "cell_type": "code",
      "source": [
        "#Q4. Write a program that checks if a given word is a Python keyword.\n",
        "import keyword\n",
        "keyword.iskeyword(\"if\")\n",
        "\n"
      ],
      "metadata": {
        "colab": {
          "base_uri": "https://localhost:8080/"
        },
        "id": "ASnD18imRh-d",
        "outputId": "99aab458-7df1-41b2-e87f-01a78360901b"
      },
      "execution_count": 9,
      "outputs": [
        {
          "output_type": "execute_result",
          "data": {
            "text/plain": [
              "True"
            ]
          },
          "metadata": {},
          "execution_count": 9
        }
      ]
    },
    {
      "cell_type": "code",
      "source": [
        "import keyword\n",
        "keyword.iskeyword(\"world\")\n"
      ],
      "metadata": {
        "colab": {
          "base_uri": "https://localhost:8080/"
        },
        "id": "_fq6aDW_R54C",
        "outputId": "511d4571-aa9f-488f-a394-a754c8c1160f"
      },
      "execution_count": 10,
      "outputs": [
        {
          "output_type": "execute_result",
          "data": {
            "text/plain": [
              "False"
            ]
          },
          "metadata": {},
          "execution_count": 10
        }
      ]
    },
    {
      "cell_type": "code",
      "source": [
        "#Q5. Create a list and tuple in Python, and demonstrate how attempting to change an element works differently for each.\n",
        "a=\"Nisha\"\n",
        "a"
      ],
      "metadata": {
        "colab": {
          "base_uri": "https://localhost:8080/",
          "height": 35
        },
        "id": "lGHWGBwYSyYd",
        "outputId": "ef0fefd5-a7c5-4136-d171-609613023c3f"
      },
      "execution_count": 11,
      "outputs": [
        {
          "output_type": "execute_result",
          "data": {
            "text/plain": [
              "'Nisha'"
            ],
            "application/vnd.google.colaboratory.intrinsic+json": {
              "type": "string"
            }
          },
          "metadata": {},
          "execution_count": 11
        }
      ]
    },
    {
      "cell_type": "code",
      "source": [
        "a[0]"
      ],
      "metadata": {
        "colab": {
          "base_uri": "https://localhost:8080/",
          "height": 35
        },
        "id": "myA2nypgTHRB",
        "outputId": "6d6352cc-be80-450b-cac2-754fd52387cc"
      },
      "execution_count": 12,
      "outputs": [
        {
          "output_type": "execute_result",
          "data": {
            "text/plain": [
              "'N'"
            ],
            "application/vnd.google.colaboratory.intrinsic+json": {
              "type": "string"
            }
          },
          "metadata": {},
          "execution_count": 12
        }
      ]
    },
    {
      "cell_type": "code",
      "source": [
        "a[0]=S"
      ],
      "metadata": {
        "colab": {
          "base_uri": "https://localhost:8080/",
          "height": 141
        },
        "id": "7dQHmdjUTLoY",
        "outputId": "1fc67c46-e81a-497a-dc4c-a9b4d8eb5d7a"
      },
      "execution_count": 13,
      "outputs": [
        {
          "output_type": "error",
          "ename": "NameError",
          "evalue": "name 'S' is not defined",
          "traceback": [
            "\u001b[0;31m---------------------------------------------------------------------------\u001b[0m",
            "\u001b[0;31mNameError\u001b[0m                                 Traceback (most recent call last)",
            "\u001b[0;32m<ipython-input-13-87781fea3d29>\u001b[0m in \u001b[0;36m<cell line: 1>\u001b[0;34m()\u001b[0m\n\u001b[0;32m----> 1\u001b[0;31m \u001b[0ma\u001b[0m\u001b[0;34m[\u001b[0m\u001b[0;36m0\u001b[0m\u001b[0;34m]\u001b[0m\u001b[0;34m=\u001b[0m\u001b[0mS\u001b[0m\u001b[0;34m\u001b[0m\u001b[0;34m\u001b[0m\u001b[0m\n\u001b[0m",
            "\u001b[0;31mNameError\u001b[0m: name 'S' is not defined"
          ]
        }
      ]
    },
    {
      "cell_type": "markdown",
      "source": [
        "In the above code, we can see the the elements in a tuple cannot be changed as tuple is an immutable container and its elements cannot be changed after being created."
      ],
      "metadata": {
        "id": "Hr-jqajOTTJf"
      }
    },
    {
      "cell_type": "code",
      "source": [
        "list=[1,2,\"N\",3+5j]\n",
        "list"
      ],
      "metadata": {
        "colab": {
          "base_uri": "https://localhost:8080/"
        },
        "id": "uH6hqlonTPOM",
        "outputId": "e5e08cbf-6507-451a-ceb0-8398440588b8"
      },
      "execution_count": 14,
      "outputs": [
        {
          "output_type": "execute_result",
          "data": {
            "text/plain": [
              "[1, 2, 'N', (3+5j)]"
            ]
          },
          "metadata": {},
          "execution_count": 14
        }
      ]
    },
    {
      "cell_type": "code",
      "source": [
        "list[3]"
      ],
      "metadata": {
        "colab": {
          "base_uri": "https://localhost:8080/"
        },
        "id": "9pPRimPpTyyf",
        "outputId": "e4366be8-c240-4853-bdc2-78f202f969e5"
      },
      "execution_count": 15,
      "outputs": [
        {
          "output_type": "execute_result",
          "data": {
            "text/plain": [
              "(3+5j)"
            ]
          },
          "metadata": {},
          "execution_count": 15
        }
      ]
    },
    {
      "cell_type": "code",
      "source": [
        "list[3]=10\n",
        "list"
      ],
      "metadata": {
        "colab": {
          "base_uri": "https://localhost:8080/"
        },
        "id": "8CaE-1gST2JG",
        "outputId": "5c794b38-17e3-452c-b18e-7d87662df8b0"
      },
      "execution_count": 17,
      "outputs": [
        {
          "output_type": "execute_result",
          "data": {
            "text/plain": [
              "[1, 2, 'N', 10]"
            ]
          },
          "metadata": {},
          "execution_count": 17
        }
      ]
    },
    {
      "cell_type": "markdown",
      "source": [
        "Here, we can see that the elements in a list can be changed as list is a mutable container and its elements can be changed after being created."
      ],
      "metadata": {
        "id": "0CoBoLqZT9S5"
      }
    },
    {
      "cell_type": "code",
      "source": [
        "#Q6. Write a function to demonstrate the behavior of mutable and immutable arguments.\n",
        "\n",
        "name=(\"nisha, pwskills\")\n",
        "name[1]=\"course\""
      ],
      "metadata": {
        "colab": {
          "base_uri": "https://localhost:8080/",
          "height": 176
        },
        "id": "V2kuAUxvT5tI",
        "outputId": "3d45b45f-42fa-4a02-8bf1-1593c0bcad16"
      },
      "execution_count": 23,
      "outputs": [
        {
          "output_type": "error",
          "ename": "TypeError",
          "evalue": "'str' object does not support item assignment",
          "traceback": [
            "\u001b[0;31m---------------------------------------------------------------------------\u001b[0m",
            "\u001b[0;31mTypeError\u001b[0m                                 Traceback (most recent call last)",
            "\u001b[0;32m<ipython-input-23-740a95f183ec>\u001b[0m in \u001b[0;36m<cell line: 4>\u001b[0;34m()\u001b[0m\n\u001b[1;32m      2\u001b[0m \u001b[0;34m\u001b[0m\u001b[0m\n\u001b[1;32m      3\u001b[0m \u001b[0mname\u001b[0m\u001b[0;34m=\u001b[0m\u001b[0;34m(\u001b[0m\u001b[0;34m\"nisha, pwskills\"\u001b[0m\u001b[0;34m)\u001b[0m\u001b[0;34m\u001b[0m\u001b[0;34m\u001b[0m\u001b[0m\n\u001b[0;32m----> 4\u001b[0;31m \u001b[0mname\u001b[0m\u001b[0;34m[\u001b[0m\u001b[0;36m1\u001b[0m\u001b[0;34m]\u001b[0m\u001b[0;34m=\u001b[0m\u001b[0;34m\"course\"\u001b[0m\u001b[0;34m\u001b[0m\u001b[0;34m\u001b[0m\u001b[0m\n\u001b[0m",
            "\u001b[0;31mTypeError\u001b[0m: 'str' object does not support item assignment"
          ]
        }
      ]
    },
    {
      "cell_type": "code",
      "source": [
        "list=[1,2,3,4]\n",
        "list[1]=\"course\"\n",
        "list\n"
      ],
      "metadata": {
        "colab": {
          "base_uri": "https://localhost:8080/"
        },
        "id": "v_1j1N2OVAe1",
        "outputId": "db5111b1-7624-4e2f-8042-b4ca7edb2d75"
      },
      "execution_count": 22,
      "outputs": [
        {
          "output_type": "execute_result",
          "data": {
            "text/plain": [
              "[1, 'course', 3, 4]"
            ]
          },
          "metadata": {},
          "execution_count": 22
        }
      ]
    },
    {
      "cell_type": "markdown",
      "source": [
        "The above code shows that tuple is an immutable object and its elements cannot be changed after being craeted. However, the code below shows that a list is a mutable container and its elements can be altered after being created."
      ],
      "metadata": {
        "id": "qi8g91VAVY5r"
      }
    },
    {
      "cell_type": "code",
      "source": [
        "#Q7 Write a function to demonstrate the behavior of mutable and immutable arguments.\n",
        "\n",
        "name=(\"nisha, pwskills\")\n",
        "name[1]=\"course\""
      ],
      "metadata": {
        "colab": {
          "base_uri": "https://localhost:8080/",
          "height": 176
        },
        "id": "EACgMEURVOgX",
        "outputId": "c7f5b460-94d8-4140-99d5-cbcdbdd32a07"
      },
      "execution_count": 24,
      "outputs": [
        {
          "output_type": "error",
          "ename": "TypeError",
          "evalue": "'str' object does not support item assignment",
          "traceback": [
            "\u001b[0;31m---------------------------------------------------------------------------\u001b[0m",
            "\u001b[0;31mTypeError\u001b[0m                                 Traceback (most recent call last)",
            "\u001b[0;32m<ipython-input-24-f0d605c4bd7f>\u001b[0m in \u001b[0;36m<cell line: 4>\u001b[0;34m()\u001b[0m\n\u001b[1;32m      2\u001b[0m \u001b[0;34m\u001b[0m\u001b[0m\n\u001b[1;32m      3\u001b[0m \u001b[0mname\u001b[0m\u001b[0;34m=\u001b[0m\u001b[0;34m(\u001b[0m\u001b[0;34m\"nisha, pwskills\"\u001b[0m\u001b[0;34m)\u001b[0m\u001b[0;34m\u001b[0m\u001b[0;34m\u001b[0m\u001b[0m\n\u001b[0;32m----> 4\u001b[0;31m \u001b[0mname\u001b[0m\u001b[0;34m[\u001b[0m\u001b[0;36m1\u001b[0m\u001b[0;34m]\u001b[0m\u001b[0;34m=\u001b[0m\u001b[0;34m\"course\"\u001b[0m\u001b[0;34m\u001b[0m\u001b[0;34m\u001b[0m\u001b[0m\n\u001b[0m",
            "\u001b[0;31mTypeError\u001b[0m: 'str' object does not support item assignment"
          ]
        }
      ]
    },
    {
      "cell_type": "code",
      "source": [
        "list=[1,2,3,4]\n",
        "list[1]=\"course\"\n",
        "list"
      ],
      "metadata": {
        "colab": {
          "base_uri": "https://localhost:8080/"
        },
        "id": "vV-rbelQXV9F",
        "outputId": "fa447d5e-a12a-4359-eacc-384b4f085611"
      },
      "execution_count": 25,
      "outputs": [
        {
          "output_type": "execute_result",
          "data": {
            "text/plain": [
              "[1, 'course', 3, 4]"
            ]
          },
          "metadata": {},
          "execution_count": 25
        }
      ]
    },
    {
      "cell_type": "markdown",
      "source": [
        "The above code shows that tuple is an immutable object and its elements cannot be changed after being craeted. However, the code below shows that a list is a mutable container and its elements can be altered after being created."
      ],
      "metadata": {
        "id": "RKKxZxMVXhXK"
      }
    },
    {
      "cell_type": "code",
      "source": [
        "#Q8. Write a program to demonstrate the use of logical operators.\n",
        "a=10\n",
        "b=12\n",
        "c=15\n",
        "if a<b and b<c:\n",
        "  print(\"true\")\n",
        "else:\n",
        "  print(\"false\")\n",
        "\n"
      ],
      "metadata": {
        "colab": {
          "base_uri": "https://localhost:8080/"
        },
        "id": "4pTtKGqIXdMF",
        "outputId": "cb632831-7739-41eb-fdc6-9c7a3e884bcb"
      },
      "execution_count": 26,
      "outputs": [
        {
          "output_type": "stream",
          "name": "stdout",
          "text": [
            "true\n"
          ]
        }
      ]
    },
    {
      "cell_type": "code",
      "source": [
        "a=10\n",
        "b=-10\n",
        "c=0\n",
        "if a>b or b<c:\n",
        "  print(\"false\")\n",
        "else:\n",
        "  print(\"true\")"
      ],
      "metadata": {
        "colab": {
          "base_uri": "https://localhost:8080/"
        },
        "id": "mtDpG0ASY8tB",
        "outputId": "35d2acd0-2b74-4fcc-d02b-ebc7d4fb4beb"
      },
      "execution_count": 30,
      "outputs": [
        {
          "output_type": "stream",
          "name": "stdout",
          "text": [
            "false\n"
          ]
        }
      ]
    },
    {
      "cell_type": "code",
      "source": [
        "a=10\n",
        "b=-10\n",
        "c=0\n",
        "if a>b != b<c:\n",
        "  print(\"false\")\n",
        "else:\n",
        "  print(\"true\")"
      ],
      "metadata": {
        "colab": {
          "base_uri": "https://localhost:8080/"
        },
        "id": "-W3oa6nwZR4z",
        "outputId": "33603b14-5e36-4e69-cf9b-fce2394fbde2"
      },
      "execution_count": 32,
      "outputs": [
        {
          "output_type": "stream",
          "name": "stdout",
          "text": [
            "true\n"
          ]
        }
      ]
    },
    {
      "cell_type": "code",
      "source": [
        "#Q9. Write a Python program to convert user input from string to integer, float, and boolean types.\n",
        "a=input(\"enter a number\")\n",
        "type(a)\n",
        "\n",
        "\n"
      ],
      "metadata": {
        "colab": {
          "base_uri": "https://localhost:8080/"
        },
        "id": "xJcmaXtFceie",
        "outputId": "a2827dce-4f5b-4748-ecea-9748f097f574"
      },
      "execution_count": 48,
      "outputs": [
        {
          "name": "stdout",
          "output_type": "stream",
          "text": [
            "enter a number2.3\n"
          ]
        },
        {
          "output_type": "execute_result",
          "data": {
            "text/plain": [
              "str"
            ]
          },
          "metadata": {},
          "execution_count": 48
        }
      ]
    },
    {
      "cell_type": "code",
      "source": [
        "a=input(\"enter a number\")\n",
        "type(a)\n",
        "b=int(a)\n",
        "type(b)\n",
        "\n"
      ],
      "metadata": {
        "colab": {
          "base_uri": "https://localhost:8080/"
        },
        "id": "SQctiFc4dKiS",
        "outputId": "a52514f3-2a37-4886-8639-7485c805fec7"
      },
      "execution_count": 50,
      "outputs": [
        {
          "name": "stdout",
          "output_type": "stream",
          "text": [
            "enter a number42\n"
          ]
        },
        {
          "output_type": "execute_result",
          "data": {
            "text/plain": [
              "int"
            ]
          },
          "metadata": {},
          "execution_count": 50
        }
      ]
    },
    {
      "cell_type": "code",
      "source": [
        "bool(\"100\")"
      ],
      "metadata": {
        "colab": {
          "base_uri": "https://localhost:8080/"
        },
        "id": "myE4CEueec4E",
        "outputId": "e962afa6-2465-41f0-f664-2e789c7af470"
      },
      "execution_count": 54,
      "outputs": [
        {
          "output_type": "execute_result",
          "data": {
            "text/plain": [
              "True"
            ]
          },
          "metadata": {},
          "execution_count": 54
        }
      ]
    },
    {
      "cell_type": "code",
      "source": [
        "#Q10. Write code to demonstrate type casting with list elements.\n",
        "list=[1,2,3,4]\n",
        "type(list)\n",
        "b=str(list)\n",
        "type(b)"
      ],
      "metadata": {
        "colab": {
          "base_uri": "https://localhost:8080/"
        },
        "id": "nQ__8kC4ftni",
        "outputId": "36e9dc02-b07c-4e89-8410-8d6c03ca8f55"
      },
      "execution_count": 58,
      "outputs": [
        {
          "output_type": "execute_result",
          "data": {
            "text/plain": [
              "str"
            ]
          },
          "metadata": {},
          "execution_count": 58
        }
      ]
    },
    {
      "cell_type": "code",
      "source": [
        "#Q11. Write a program that checks if a number is positive, negative, or zero.\n",
        "a=input(\"enter a number\")\n",
        "a=int(a)\n",
        "if a > 0:\n",
        "  print(\"positive\")\n",
        "elif a < 0:\n",
        "  print(\"negative\")\n",
        "else:\n",
        "  print(\"zero\")\n"
      ],
      "metadata": {
        "colab": {
          "base_uri": "https://localhost:8080/"
        },
        "id": "m9sg8sG4iG7z",
        "outputId": "53131c88-2a06-4991-ada2-83448c9bae40"
      },
      "execution_count": 61,
      "outputs": [
        {
          "output_type": "stream",
          "name": "stdout",
          "text": [
            "enter a number2\n",
            "positive\n"
          ]
        }
      ]
    },
    {
      "cell_type": "code",
      "source": [
        "#Q12.  Write a for loop to print numbers from 1 to 10.\n",
        "for i in range(1,11):\n",
        "  print(i)"
      ],
      "metadata": {
        "colab": {
          "base_uri": "https://localhost:8080/"
        },
        "id": "C-Q4YNzKi1dp",
        "outputId": "7e213a44-1285-4442-adb0-e85b26ee45a2"
      },
      "execution_count": 62,
      "outputs": [
        {
          "output_type": "stream",
          "name": "stdout",
          "text": [
            "1\n",
            "2\n",
            "3\n",
            "4\n",
            "5\n",
            "6\n",
            "7\n",
            "8\n",
            "9\n",
            "10\n"
          ]
        }
      ]
    },
    {
      "cell_type": "code",
      "source": [
        "#Q13. Write a Python program to find the sum of all even numbers between 1 and 50.\n",
        "sum=0\n",
        "for i in range(1,51):\n",
        "  if i%2==0:\n",
        "     sum=sum+i\n",
        "print(sum)\n"
      ],
      "metadata": {
        "colab": {
          "base_uri": "https://localhost:8080/"
        },
        "id": "EZKo2_c_jwf7",
        "outputId": "bdbf8d86-f41a-4f3a-e863-cd0c003f02a1"
      },
      "execution_count": 66,
      "outputs": [
        {
          "output_type": "stream",
          "name": "stdout",
          "text": [
            "650\n"
          ]
        }
      ]
    },
    {
      "cell_type": "code",
      "source": [
        "#Q14. Write a program to reverse a string using a while loop.\n",
        "a=\"pwskills\"\n",
        "print(a)\n",
        "reverse=\" \"\n",
        "count=len(a)\n",
        "while count>0:\n",
        "  reverse=reverse+a[count-1]\n",
        "  count=count-1\n",
        "print(reverse)"
      ],
      "metadata": {
        "colab": {
          "base_uri": "https://localhost:8080/"
        },
        "id": "Gab_eK418UNW",
        "outputId": "bf1e8c82-7a85-41ea-d502-f138e6b7cf64"
      },
      "execution_count": 79,
      "outputs": [
        {
          "output_type": "stream",
          "name": "stdout",
          "text": [
            "pwskills\n",
            " sllikswp\n"
          ]
        }
      ]
    },
    {
      "cell_type": "code",
      "source": [
        "#Q15. Write a Python program to calculate the factorial of a number provided by the user using a while loop.\n",
        "n=int(input(\"enter a number\"))\n",
        "f=1\n",
        "while n>=1:\n",
        "  f=f*n\n",
        "  n=n-1\n",
        "print(\"factorial\",f)\n",
        "\n"
      ],
      "metadata": {
        "colab": {
          "base_uri": "https://localhost:8080/"
        },
        "id": "PysaqX7xmDoI",
        "outputId": "93ea45d3-5cec-41d9-daa0-0a7e487cf164"
      },
      "execution_count": 77,
      "outputs": [
        {
          "output_type": "stream",
          "name": "stdout",
          "text": [
            "enter a number5\n",
            "factorial 120\n"
          ]
        }
      ]
    },
    {
      "cell_type": "code",
      "source": [],
      "metadata": {
        "id": "k8U9YGs2nMfW"
      },
      "execution_count": 77,
      "outputs": []
    }
  ]
}